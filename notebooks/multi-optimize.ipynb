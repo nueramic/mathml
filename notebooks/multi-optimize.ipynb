{
 "cells": [
  {
   "cell_type": "code",
   "execution_count": 1,
   "outputs": [
    {
     "name": "stdout",
     "output_type": "stream",
     "text": [
      "Requirement already satisfied: nueramic-mathml in /Library/Frameworks/Python.framework/Versions/3.9/lib/python3.9/site-packages (0.0.1.1)\r\n",
      "Collecting nueramic-mathml\r\n",
      "  Downloading nueramic_mathml-0.0.1.2-py3-none-any.whl (15 kB)\r\n",
      "Requirement already satisfied: numpy<2.0.0,>=1.22.4 in /Library/Frameworks/Python.framework/Versions/3.9/lib/python3.9/site-packages (from nueramic-mathml) (1.22.4)\r\n",
      "Requirement already satisfied: torch<2.0.0,>=1.11.0 in /Library/Frameworks/Python.framework/Versions/3.9/lib/python3.9/site-packages (from nueramic-mathml) (1.11.0)\r\n",
      "Requirement already satisfied: typing-extensions in /Library/Frameworks/Python.framework/Versions/3.9/lib/python3.9/site-packages (from torch<2.0.0,>=1.11.0->nueramic-mathml) (4.2.0)\r\n",
      "Installing collected packages: nueramic-mathml\r\n",
      "  Attempting uninstall: nueramic-mathml\r\n",
      "    Found existing installation: nueramic-mathml 0.0.1.1\r\n",
      "    Uninstalling nueramic-mathml-0.0.1.1:\r\n",
      "      Successfully uninstalled nueramic-mathml-0.0.1.1\r\n",
      "Successfully installed nueramic-mathml-0.0.1.2\r\n",
      "\u001B[33mWARNING: You are using pip version 22.0.4; however, version 22.1.2 is available.\r\n",
      "You should consider upgrading via the '/usr/local/bin/python3.9 -m pip install --upgrade pip' command.\u001B[0m\u001B[33m\r\n",
      "\u001B[0m"
     ]
    }
   ],
   "source": [
    "!pip install --upgrade nueramic-mathml"
   ],
   "metadata": {
    "collapsed": false,
    "pycharm": {
     "name": "#%%\n"
    }
   }
  },
  {
   "cell_type": "code",
   "execution_count": 2,
   "outputs": [],
   "source": [
    "from nueramic_mathml import *"
   ],
   "metadata": {
    "collapsed": false,
    "pycharm": {
     "name": "#%%\n"
    }
   }
  },
  {
   "cell_type": "code",
   "execution_count": 6,
   "outputs": [
    {
     "name": "stdout",
     "output_type": "stream",
     "text": [
      "Requirement already satisfied: torch in /Library/Frameworks/Python.framework/Versions/3.10/lib/python3.10/site-packages (1.11.0)\r\n",
      "Requirement already satisfied: torchvision in /Library/Frameworks/Python.framework/Versions/3.10/lib/python3.10/site-packages (0.12.0)\r\n",
      "Requirement already satisfied: torchaudio in /Library/Frameworks/Python.framework/Versions/3.10/lib/python3.10/site-packages (0.11.0)\r\n",
      "Requirement already satisfied: typing-extensions in /Library/Frameworks/Python.framework/Versions/3.10/lib/python3.10/site-packages (from torch) (4.2.0)\r\n",
      "Requirement already satisfied: pillow!=8.3.*,>=5.3.0 in /Library/Frameworks/Python.framework/Versions/3.10/lib/python3.10/site-packages (from torchvision) (9.1.0)\r\n",
      "Requirement already satisfied: numpy in /Library/Frameworks/Python.framework/Versions/3.10/lib/python3.10/site-packages (from torchvision) (1.22.3)\r\n",
      "Requirement already satisfied: requests in /Library/Frameworks/Python.framework/Versions/3.10/lib/python3.10/site-packages (from torchvision) (2.27.1)\r\n",
      "Requirement already satisfied: certifi>=2017.4.17 in /Library/Frameworks/Python.framework/Versions/3.10/lib/python3.10/site-packages (from requests->torchvision) (2021.10.8)\r\n",
      "Requirement already satisfied: idna<4,>=2.5 in /Library/Frameworks/Python.framework/Versions/3.10/lib/python3.10/site-packages (from requests->torchvision) (3.3)\r\n",
      "Requirement already satisfied: urllib3<1.27,>=1.21.1 in /Library/Frameworks/Python.framework/Versions/3.10/lib/python3.10/site-packages (from requests->torchvision) (1.26.9)\r\n",
      "Requirement already satisfied: charset-normalizer~=2.0.0 in /Library/Frameworks/Python.framework/Versions/3.10/lib/python3.10/site-packages (from requests->torchvision) (2.0.12)\r\n",
      "\u001B[33mWARNING: You are using pip version 22.0.4; however, version 22.1.2 is available.\r\n",
      "You should consider upgrading via the '/Library/Frameworks/Python.framework/Versions/3.10/bin/python3.10 -m pip install --upgrade pip' command.\u001B[0m\u001B[33m\r\n",
      "\u001B[0m"
     ]
    }
   ],
   "source": [
    "!pip3 install torch torchvision torchaudio"
   ],
   "metadata": {
    "collapsed": false,
    "pycharm": {
     "name": "#%%\n"
    }
   }
  },
  {
   "cell_type": "code",
   "execution_count": 3,
   "outputs": [
    {
     "name": "stdout",
     "output_type": "stream",
     "text": [
      "tensor([9.2069e-08, 1.8405e-07], dtype=torch.float64)\n"
     ]
    }
   ],
   "source": [
    "import torch\n",
    "\n",
    "\n",
    "def func(x): return -torch.e ** (- x[0] ** 2 - x[1] ** 2)\n",
    "\n",
    "\n",
    "x_0 = torch.tensor([1, 2])\n",
    "solution = gd_optimal(func, x_0)\n",
    "print(solution[0])\n",
    "#{'point': array([9.21321369e-08, 1.84015366e-07]), 'f_value': -0.9999999999999577}"
   ],
   "metadata": {
    "collapsed": false,
    "pycharm": {
     "name": "#%%\n"
    }
   }
  },
  {
   "cell_type": "code",
   "execution_count": 12,
   "outputs": [
    {
     "ename": "RuntimeError",
     "evalue": "expand(torch.DoubleTensor{[2]}, size=[]): the number of sizes provided (0) must be greater or equal to the number of dimensions in the tensor (1)",
     "output_type": "error",
     "traceback": [
      "\u001B[0;31m---------------------------------------------------------------------------\u001B[0m",
      "\u001B[0;31mRuntimeError\u001B[0m                              Traceback (most recent call last)",
      "Input \u001B[0;32mIn [12]\u001B[0m, in \u001B[0;36m<cell line: 5>\u001B[0;34m()\u001B[0m\n\u001B[1;32m      1\u001B[0m \u001B[38;5;28;01mdef\u001B[39;00m \u001B[38;5;21mf\u001B[39m(x): \u001B[38;5;28;01mreturn\u001B[39;00m \u001B[38;5;241m-\u001B[39m\u001B[38;5;241m5\u001B[39m \u001B[38;5;241m*\u001B[39m x \u001B[38;5;241m*\u001B[39m\u001B[38;5;241m*\u001B[39m \u001B[38;5;241m5\u001B[39m \u001B[38;5;241m+\u001B[39m \u001B[38;5;241m4\u001B[39m \u001B[38;5;241m*\u001B[39m x \u001B[38;5;241m*\u001B[39m\u001B[38;5;241m*\u001B[39m \u001B[38;5;241m4\u001B[39m \u001B[38;5;241m-\u001B[39m \u001B[38;5;241m12\u001B[39m \u001B[38;5;241m*\u001B[39m x \u001B[38;5;241m*\u001B[39m\u001B[38;5;241m*\u001B[39m \u001B[38;5;241m3\u001B[39m \u001B[38;5;241m+\u001B[39m \u001B[38;5;241m11\u001B[39m \u001B[38;5;241m*\u001B[39m x \u001B[38;5;241m*\u001B[39m\u001B[38;5;241m*\u001B[39m \u001B[38;5;241m2\u001B[39m \u001B[38;5;241m-\u001B[39m \u001B[38;5;241m2\u001B[39m \u001B[38;5;241m*\u001B[39m x \u001B[38;5;241m+\u001B[39m \u001B[38;5;241m1\u001B[39m\n\u001B[1;32m      4\u001B[0m bound \u001B[38;5;241m=\u001B[39m torch\u001B[38;5;241m.\u001B[39mtensor([\u001B[38;5;241m-\u001B[39m\u001B[38;5;241m0.5\u001B[39m, \u001B[38;5;241m0.5\u001B[39m])\n\u001B[0;32m----> 5\u001B[0m \u001B[43mbfgs\u001B[49m\u001B[43m(\u001B[49m\u001B[43mf\u001B[49m\u001B[43m,\u001B[49m\n\u001B[1;32m      6\u001B[0m \u001B[43m     \u001B[49m\u001B[43mbound\u001B[49m\u001B[43m)\u001B[49m\n",
      "File \u001B[0;32m/Library/Frameworks/Python.framework/Versions/3.9/lib/python3.9/site-packages/nueramic_mathml/multi_optimize.py:75\u001B[0m, in \u001B[0;36mbfgs\u001B[0;34m(function, x0, tolerance, max_iter, verbose, keep_history)\u001B[0m\n\u001B[1;32m     55\u001B[0m \u001B[38;5;124;03m\"\"\"\u001B[39;00m\n\u001B[1;32m     56\u001B[0m \u001B[38;5;124;03m[СЮДА ОФОРМИТЬ РЕФЕРЕНС] Returns a tensor n x 1 with optimal point using the BFGS method.\u001B[39;00m\n\u001B[1;32m     57\u001B[0m \u001B[38;5;124;03mBroyden–Fletcher–Goldfarb–Shanno algorithm\u001B[39;00m\n\u001B[0;32m   (...)\u001B[0m\n\u001B[1;32m     71\u001B[0m \u001B[38;5;124;03m:return: tuple with point and history.\u001B[39;00m\n\u001B[1;32m     72\u001B[0m \u001B[38;5;124;03m\"\"\"\u001B[39;00m\n\u001B[1;32m     74\u001B[0m \u001B[38;5;66;03m# initialization\u001B[39;00m\n\u001B[0;32m---> 75\u001B[0m x_k, func_k, grad_k, history, round_precision \u001B[38;5;241m=\u001B[39m \u001B[43minitialize\u001B[49m\u001B[43m(\u001B[49m\u001B[43mfunction\u001B[49m\u001B[43m,\u001B[49m\u001B[43m \u001B[49m\u001B[43mx0\u001B[49m\u001B[43m,\u001B[49m\u001B[43m \u001B[49m\u001B[43mtolerance\u001B[49m\u001B[43m,\u001B[49m\u001B[43m \u001B[49m\u001B[43mkeep_history\u001B[49m\u001B[43m)\u001B[49m\n\u001B[1;32m     76\u001B[0m h_k \u001B[38;5;241m=\u001B[39m torch\u001B[38;5;241m.\u001B[39meye(x_k\u001B[38;5;241m.\u001B[39mshape[\u001B[38;5;241m0\u001B[39m], dtype\u001B[38;5;241m=\u001B[39mtorch\u001B[38;5;241m.\u001B[39mfloat64) \u001B[38;5;241m*\u001B[39m tolerance \u001B[38;5;241m*\u001B[39m\u001B[38;5;241m*\u001B[39m \u001B[38;5;241m0.5\u001B[39m\n\u001B[1;32m     77\u001B[0m grad_k \u001B[38;5;241m=\u001B[39m grad_k\u001B[38;5;241m.\u001B[39mreshape(\u001B[38;5;241m-\u001B[39m\u001B[38;5;241m1\u001B[39m, \u001B[38;5;241m1\u001B[39m)\n",
      "File \u001B[0;32m/Library/Frameworks/Python.framework/Versions/3.9/lib/python3.9/site-packages/nueramic_mathml/multi_optimize.py:30\u001B[0m, in \u001B[0;36minitialize\u001B[0;34m(function, x0, epsilon, keep_history)\u001B[0m\n\u001B[1;32m     28\u001B[0m x_k \u001B[38;5;241m=\u001B[39m x0\u001B[38;5;241m.\u001B[39mdouble()\u001B[38;5;241m.\u001B[39mflatten()\n\u001B[1;32m     29\u001B[0m func_k \u001B[38;5;241m=\u001B[39m function(x_k)\n\u001B[0;32m---> 30\u001B[0m grad_k \u001B[38;5;241m=\u001B[39m \u001B[43mgradient\u001B[49m\u001B[43m(\u001B[49m\u001B[43mfunction\u001B[49m\u001B[43m,\u001B[49m\u001B[43m \u001B[49m\u001B[43mx_k\u001B[49m\u001B[43m)\u001B[49m\n\u001B[1;32m     31\u001B[0m round_precision \u001B[38;5;241m=\u001B[39m \u001B[38;5;241m-\u001B[39m\u001B[38;5;28mint\u001B[39m(numpy\u001B[38;5;241m.\u001B[39mlog10(epsilon))  \u001B[38;5;66;03m# variable to determine the rounding accuracy\u001B[39;00m\n\u001B[1;32m     33\u001B[0m \u001B[38;5;66;03m# if keep_history=True, we will save history. here is initial step\u001B[39;00m\n",
      "File \u001B[0;32m/Library/Frameworks/Python.framework/Versions/3.9/lib/python3.9/site-packages/nueramic_mathml/calculus.py:51\u001B[0m, in \u001B[0;36mgradient\u001B[0;34m(function, x0, delta_x)\u001B[0m\n\u001B[1;32m     49\u001B[0m     delta[i] \u001B[38;5;241m+\u001B[39m\u001B[38;5;241m=\u001B[39m delta_x\n\u001B[1;32m     50\u001B[0m     grad_i \u001B[38;5;241m=\u001B[39m (function(x0 \u001B[38;5;241m+\u001B[39m delta) \u001B[38;5;241m-\u001B[39m function(x0 \u001B[38;5;241m-\u001B[39m delta)) \u001B[38;5;241m/\u001B[39m (\u001B[38;5;241m2\u001B[39m \u001B[38;5;241m*\u001B[39m delta_x)\n\u001B[0;32m---> 51\u001B[0m     grad[i] \u001B[38;5;241m=\u001B[39m grad_i\n\u001B[1;32m     53\u001B[0m \u001B[38;5;28;01mreturn\u001B[39;00m grad\n",
      "\u001B[0;31mRuntimeError\u001B[0m: expand(torch.DoubleTensor{[2]}, size=[]): the number of sizes provided (0) must be greater or equal to the number of dimensions in the tensor (1)"
     ]
    }
   ],
   "source": [
    "def f(x): return -5 * x ** 5 + 4 * x ** 4 - 12 * x ** 3 + 11 * x ** 2 - 2 * x + 1\n",
    "\n",
    "\n",
    "bound = torch.tensor([-0.5, 0.5])\n",
    "bfgs(f,\n",
    "     bound)"
   ],
   "metadata": {
    "collapsed": false,
    "pycharm": {
     "name": "#%%\n"
    }
   }
  },
  {
   "cell_type": "code",
   "execution_count": 15,
   "outputs": [
    {
     "name": "stdout",
     "output_type": "stream",
     "text": [
      "tensor([1.9156e-06, 3.8312e-06], dtype=torch.float64)\n"
     ]
    }
   ],
   "source": [
    "def func(x): return x[0] ** 2 + x[1] ** 2\n",
    "x_0 = torch.tensor([1, 2])\n",
    "solution = gd_constant(func, x_0)\n",
    "print(solution[0])"
   ],
   "metadata": {
    "collapsed": false,
    "pycharm": {
     "name": "#%%\n"
    }
   }
  },
  {
   "cell_type": "code",
   "execution_count": 16,
   "outputs": [
    {
     "name": "stdout",
     "output_type": "stream",
     "text": [
      "tensor([1.9156e-06, 3.8312e-06], dtype=torch.float64)\n"
     ]
    }
   ],
   "source": [
    "def func(x): return x[0] ** 2 + x[1] ** 2\n",
    "x_0 = torch.tensor([1, 2])\n",
    "solution = gd_frac(func, x_0)\n",
    "print(solution[0])"
   ],
   "metadata": {
    "collapsed": false,
    "pycharm": {
     "name": "#%%\n"
    }
   }
  },
  {
   "cell_type": "code",
   "execution_count": 17,
   "outputs": [
    {
     "name": "stdout",
     "output_type": "stream",
     "text": [
      "tensor([9.2070e-08, 1.8405e-07], dtype=torch.float64)\n"
     ]
    }
   ],
   "source": [
    "def func(x): return -torch.exp(- x[0] ** 2 - x[1] ** 2)\n",
    "x_0 = torch.tensor([1, 2])\n",
    "solution = gd_optimal(func, x_0)\n",
    "print(solution[0])"
   ],
   "metadata": {
    "collapsed": false,
    "pycharm": {
     "name": "#%%\n"
    }
   }
  },
  {
   "cell_type": "code",
   "execution_count": 18,
   "outputs": [
    {
     "name": "stdout",
     "output_type": "stream",
     "text": [
      "tensor([6.9846e+25, 4.2454e+26], dtype=torch.float64)\n"
     ]
    }
   ],
   "source": [
    "def func(x): return 10 * x[0] ** 2 + x[1] ** 2 / 5\n",
    "x_0 = torch.tensor([1, 2])\n",
    "solution = nonlinear_cgm(func, x_0)\n",
    "print(solution[0])"
   ],
   "metadata": {
    "collapsed": false,
    "pycharm": {
     "name": "#%%\n"
    }
   }
  },
  {
   "cell_type": "code",
   "execution_count": 20,
   "outputs": [
    {
     "data": {
      "text/plain": "tensor([0.0032, 0.5000], dtype=torch.float64)"
     },
     "execution_count": 20,
     "metadata": {},
     "output_type": "execute_result"
    }
   ],
   "source": [
    "log_barrier_solver(lambda x: (x[0] + 0.5) ** 2 + (x[1] - 0.5) ** 2, torch.tensor([0.9, 0.1]),\n",
    "                           [lambda x: x[0], lambda x: 1 - x[0], lambda x: x[1], lambda x: 1 - x[1]])[0]"
   ],
   "metadata": {
    "collapsed": false,
    "pycharm": {
     "name": "#%%\n"
    }
   }
  },
  {
   "cell_type": "code",
   "execution_count": 26,
   "outputs": [
    {
     "data": {
      "text/plain": "tensor([1.0540, 0.5000], dtype=torch.float64)"
     },
     "execution_count": 26,
     "metadata": {},
     "output_type": "execute_result"
    }
   ],
   "source": [
    "constrained_lagrangian_solver(lambda x: (x[0] + 0.5) ** 2 + (x[1] - 0.5) ** 2, torch.tensor([0.1, 0.1]),\n",
    "                            [lambda x: x[0] - 1])[0]"
   ],
   "metadata": {
    "collapsed": false,
    "pycharm": {
     "name": "#%%\n"
    }
   }
  },
  {
   "cell_type": "code",
   "execution_count": 5,
   "outputs": [
    {
     "data": {
      "text/plain": "tensor([1.9910e-04, 5.0000e-01], dtype=torch.float64)"
     },
     "execution_count": 5,
     "metadata": {},
     "output_type": "execute_result"
    }
   ],
   "source": [
    "primal_dual_interior(lambda x: (x[0] + 0.5) ** 2 + (x[1] - 0.5) ** 2, torch.tensor([0.9, 0.1]),\n",
    "                        [lambda x: x[0], lambda x: 1 - x[0], lambda x: x[1], lambda x: 1 - x[1]])[0]"
   ],
   "metadata": {
    "collapsed": false,
    "pycharm": {
     "name": "#%%\n"
    }
   }
  },
  {
   "cell_type": "code",
   "execution_count": null,
   "outputs": [],
   "source": [],
   "metadata": {
    "collapsed": false,
    "pycharm": {
     "name": "#%%\n"
    }
   }
  }
 ],
 "metadata": {
  "kernelspec": {
   "display_name": "Python 3",
   "language": "python",
   "name": "python3"
  },
  "language_info": {
   "codemirror_mode": {
    "name": "ipython",
    "version": 2
   },
   "file_extension": ".py",
   "mimetype": "text/x-python",
   "name": "python",
   "nbconvert_exporter": "python",
   "pygments_lexer": "ipython2",
   "version": "2.7.6"
  }
 },
 "nbformat": 4,
 "nbformat_minor": 0
}